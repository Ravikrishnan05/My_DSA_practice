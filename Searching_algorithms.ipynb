{
 "cells": [
  {
   "cell_type": "code",
   "execution_count": null,
   "metadata": {},
   "outputs": [],
   "source": [
    "#DSA practice\n",
    "#linear search\n"
   ]
  },
  {
   "cell_type": "markdown",
   "metadata": {},
   "source": [
    "\n",
    "07/01/25 Night: Basics\n",
    "Understand the Binary Search algorithm.\n",
    "Write code for iterative and recursive approaches.\n",
    "\n",
    "08/01/25 morning:Variants and Edge Cases\n",
    "Solve basic problems.\n",
    "Handle scenarios like:\n",
    "Duplicates in arrays.\n",
    "Searching in an infinite-sized array."
   ]
  },
  {
   "cell_type": "code",
   "execution_count": null,
   "metadata": {},
   "outputs": [],
   "source": []
  },
  {
   "cell_type": "code",
   "execution_count": 1,
   "metadata": {},
   "outputs": [],
   "source": [
    "\n",
    "def iterative_binary_search(arr,target):\n",
    "    low=0\n",
    "    high=len(arr)-1\n",
    "    while(low<=high):\n",
    "        mid=low+(high-low)//2\n",
    "        if arr[mid]==target:\n",
    "            return mid \n",
    "        elif arr[mid]<target:\n",
    "            low=mid+1\n",
    "        else:\n",
    "            high=mid-1\n",
    "    \n",
    "\n",
    "        \n",
    "\n"
   ]
  },
  {
   "cell_type": "code",
   "execution_count": 2,
   "metadata": {},
   "outputs": [
    {
     "data": {
      "text/plain": [
       "3"
      ]
     },
     "execution_count": 2,
     "metadata": {},
     "output_type": "execute_result"
    }
   ],
   "source": [
    "arr = [1, 3, 5, 7, 9, 11]\n",
    "target = 7\n",
    "iterative_binary_search(arr,target)"
   ]
  },
  {
   "cell_type": "code",
   "execution_count": 7,
   "metadata": {},
   "outputs": [],
   "source": [
    "\n",
    "#this is shit \n",
    "def recursive_binary_search(arr,target):\n",
    "    low=0\n",
    "    high=len(arr)-1\n",
    "    mid=low+(high-low)//2\n",
    "    if len(arr)==1:\n",
    "        return mid\n",
    "    else:\n",
    "        if arr[mid]==target:\n",
    "            return mid \n",
    "        elif arr[mid]<target:\n",
    "            recursive_binary_search(arr[mid+1:high],target)\n",
    "        else:\n",
    "            recursive_binary_search(arr[low:mid-1],target)"
   ]
  },
  {
   "cell_type": "code",
   "execution_count": 13,
   "metadata": {},
   "outputs": [
    {
     "name": "stdout",
     "output_type": "stream",
     "text": [
      "None\n"
     ]
    }
   ],
   "source": [
    "arr = [1, 3, 5, 7, 9, 11]\n",
    "\n",
    "target = 7\n",
    "print(recursive_binary_search(arr,target))\n"
   ]
  },
  {
   "cell_type": "code",
   "execution_count": 21,
   "metadata": {},
   "outputs": [],
   "source": [
    "def recursive_binary_search(arr,target,low,high):\n",
    "    if low>high:\n",
    "        return -1\n",
    "    mid=low+(high-low)//2\n",
    "    if arr[mid]==target:\n",
    "        return mid\n",
    "    elif arr[mid]<target:\n",
    "        return recursive_binary_search(arr,target,mid+1,high)\n",
    "    else:\n",
    "        return recursive_binary_search(arr,target,low,mid-1)"
   ]
  },
  {
   "cell_type": "code",
   "execution_count": 22,
   "metadata": {},
   "outputs": [],
   "source": [
    "arr = [1, 3, 5, 7, 9, 11]\n",
    "target = 7\n",
    "low=0\n",
    "high=5"
   ]
  },
  {
   "cell_type": "code",
   "execution_count": 23,
   "metadata": {},
   "outputs": [
    {
     "data": {
      "text/plain": [
       "3"
      ]
     },
     "execution_count": 23,
     "metadata": {},
     "output_type": "execute_result"
    }
   ],
   "source": [
    "recursive_binary_search(arr,target,low,high)"
   ]
  },
  {
   "cell_type": "code",
   "execution_count": null,
   "metadata": {},
   "outputs": [],
   "source": []
  }
 ],
 "metadata": {
  "kernelspec": {
   "display_name": "Python 3",
   "language": "python",
   "name": "python3"
  },
  "language_info": {
   "codemirror_mode": {
    "name": "ipython",
    "version": 3
   },
   "file_extension": ".py",
   "mimetype": "text/x-python",
   "name": "python",
   "nbconvert_exporter": "python",
   "pygments_lexer": "ipython3",
   "version": "3.9.13"
  }
 },
 "nbformat": 4,
 "nbformat_minor": 2
}
